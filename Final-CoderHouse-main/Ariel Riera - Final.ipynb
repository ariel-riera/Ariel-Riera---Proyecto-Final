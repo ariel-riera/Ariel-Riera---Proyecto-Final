{
 "cells": [
  {
   "cell_type": "code",
   "execution_count": null,
   "id": "32c4bdb0-7bd2-445a-99d6-df960681b113",
   "metadata": {},
   "outputs": [],
   "source": [
    "pip install openai==0.28"
   ]
  },
  {
   "cell_type": "code",
   "execution_count": 1,
   "id": "1e818f29-454c-42be-a847-b6d0f67775d1",
   "metadata": {},
   "outputs": [
    {
     "data": {
      "application/vnd.jupyter.widget-view+json": {
       "model_id": "ce97e9703bfd4d3ab7fe84bf7ea72c96",
       "version_major": 2,
       "version_minor": 0
      },
      "text/plain": [
       "Password(description='API Key:', layout=Layout(width='90%'), placeholder='Ingresa tu API key aquí...')"
      ]
     },
     "metadata": {},
     "output_type": "display_data"
    },
    {
     "data": {
      "application/vnd.jupyter.widget-view+json": {
       "model_id": "04320f8cfc5c426baa69a69159392410",
       "version_major": 2,
       "version_minor": 0
      },
      "text/plain": [
       "Button(button_style='success', description='Registrar API Key', style=ButtonStyle(button_color='green'))"
      ]
     },
     "metadata": {},
     "output_type": "display_data"
    },
    {
     "data": {
      "application/vnd.jupyter.widget-view+json": {
       "model_id": "06c5834973db4099984e238f47b50b1e",
       "version_major": 2,
       "version_minor": 0
      },
      "text/plain": [
       "Textarea(value='', description='Texto:', layout=Layout(height='150px', width='90%'), placeholder='Ingresa tu t…"
      ]
     },
     "metadata": {},
     "output_type": "display_data"
    },
    {
     "data": {
      "application/vnd.jupyter.widget-view+json": {
       "model_id": "3193d8738a714985a0ce185b8ee3ec60",
       "version_major": 2,
       "version_minor": 0
      },
      "text/plain": [
       "Dropdown(description='Selectores:', options=(('Reescritura de nota', 1), ('Generar Imagen', 2), ('Sugerir Tags…"
      ]
     },
     "metadata": {},
     "output_type": "display_data"
    },
    {
     "data": {
      "application/vnd.jupyter.widget-view+json": {
       "model_id": "1fea01c11bda4b9181455f9f8ee9ed69",
       "version_major": 2,
       "version_minor": 0
      },
      "text/plain": [
       "Button(button_style='success', description='Enviar', style=ButtonStyle(button_color='blue'))"
      ]
     },
     "metadata": {},
     "output_type": "display_data"
    },
    {
     "data": {
      "application/vnd.jupyter.widget-view+json": {
       "model_id": "257fca05a3b64b2f9a5c406ee253d6bb",
       "version_major": 2,
       "version_minor": 0
      },
      "text/plain": [
       "Output()"
      ]
     },
     "metadata": {},
     "output_type": "display_data"
    }
   ],
   "source": [
    "import openai\n",
    "import ipywidgets as widgets\n",
    "from IPython.display import display\n",
    "\n",
    "# Inicializar la clave API como None\n",
    "api_key = None\n",
    "\n",
    "# Función para sugerir títulos\n",
    "def reescribir_nota(texto):\n",
    "    response = openai.ChatCompletion.create(\n",
    "        model=\"gpt-4o\",\n",
    "        messages=[\n",
    "            {\"role\": \"user\", \"content\": f\"reescribe el siguiente texto con formato de nota, tu rol es de un periodista especializado , la escritura tiene que ser entendible para un publico joven,  El título y el subtítulo deben tener un puntaje SEO alto. Luego crea una breve reflexión: {texto}\"}\n",
    "        ]\n",
    "    )\n",
    "    leng_joven = response.choices[0]['message']['content'].split('\\n')\n",
    "    return [nota_rewrite.strip() for nota_rewrite in leng_joven if nota_rewrite.strip()]\n",
    "\n",
    "# Función para sugerir tags\n",
    "def sugerir_tags(texto):\n",
    "    response = openai.ChatCompletion.create(\n",
    "        model=\"gpt-4o\",\n",
    "        messages=[\n",
    "            {\"role\": \"user\", \"content\": f\"Busca las palabras mas relevantes para usarlas como tags: {texto}\"}\n",
    "        ]\n",
    "    )\n",
    "    tags = response.choices[0]['message']['content']\n",
    "    return tags.split(\", \")\n",
    "\n",
    "# Función para generar un resumen breve (menor a 400 caracteres)\n",
    "def generar_resumen(texto):\n",
    "    response = openai.ChatCompletion.create(\n",
    "        model=\"gpt-4o\",\n",
    "        messages=[\n",
    "            {\"role\": \"user\", \"content\": f\"Resume el siguiente texto en menos de 400 caracteres: {texto}\"}\n",
    "        ]\n",
    "    )\n",
    "    resumen = response.choices[0]['message']['content']\n",
    "    return resumen[:400]  # Asegurar que el resumen no exceda los 1000 caracteres\n",
    "\n",
    "# Función para generar imagen usando DALL-E con estilos adicionales\n",
    "def generar_imagen(bajada, estilos=[]):\n",
    "    prompt = bajada\n",
    "    if estilos:\n",
    "        prompt += \"Tiene que ser una imagen de alta calidad, super realista, con los textos claros  \" + \" que tenga colores acordes a la imagen, que sea una imagen expresiva, que el lector entienda que esa imagen es del texto leido  \".join(estilos)\n",
    "    \n",
    "    response = openai.Image.create(\n",
    "        prompt=prompt,\n",
    "        n=1,\n",
    "        size=\"512x512\"  # Tamaño de la imagen\n",
    "    )\n",
    "    return response['data'][0]['url']\n",
    "\n",
    "# Función para generar bajada\n",
    "def generar_bajada(texto):\n",
    "    response = openai.ChatCompletion.create(\n",
    "        model=\"gpt-4o\",\n",
    "        messages=[\n",
    "            {\"role\": \"user\", \"content\": f\"Genera una bajada breve en 150 palabras, para este texto: {texto}\"}\n",
    "        ]\n",
    "    )\n",
    "    return response.choices[0]['message']['content']\n",
    "\n",
    "# Función para generar información extra\n",
    "def Traducir_a_ingles(texto):\n",
    "    response = openai.ChatCompletion.create(\n",
    "        model=\"gpt-4o\",\n",
    "        messages=[\n",
    "            {\"role\": \"user\", \"content\": f\"Traduce el texto a idioma ingles USA: {texto}\"}\n",
    "        ]\n",
    "    )\n",
    "    return response.choices[0]['message']['content']\n",
    "\n",
    "\n",
    "# Función para manejar el evento de botón\n",
    "def procesar_texto(b):\n",
    "    global api_key\n",
    "    if api_key is None:\n",
    "        output_area.append_stdout(\"Por favor, ingresa tu API key de OpenAI.\\n\")\n",
    "        return\n",
    "\n",
    "    openai.api_key = api_key  # Establecer la clave API\n",
    "    \n",
    "    texto = texto_input.value\n",
    "    if not texto.strip():\n",
    "        output_area.append_stdout(\"Por favor, ingresa un texto.\\n\")\n",
    "        return\n",
    "    \n",
    "    opcion = opcion_selector.value\n",
    "    \n",
    "    if opcion == 1:\n",
    "        leng_joven = reescribir_nota(texto)\n",
    "        output_area.append_stdout(\"\\nReescribir nota con perfil Joven:\\n\")\n",
    "        for nota_rewrite in leng_joven:\n",
    "            output_area.append_stdout(nota_rewrite + \"\\n\")\n",
    "    \n",
    "    elif opcion == 2:\n",
    "        resumen = generar_resumen(texto)\n",
    "        output_area.append_stdout(f\"Explicacion para la imagen: {resumen}\\n\")\n",
    "        imagen_url = generar_imagen(resumen)\n",
    "        output_area.append_stdout(f\"\\nURL de la imagen generada: {imagen_url}\\n\")\n",
    "    \n",
    "    elif opcion == 3:\n",
    "        tags = sugerir_tags(texto)\n",
    "        output_area.append_stdout(\"\\nSugerencias de tags:\\n\")\n",
    "        output_area.append_stdout(\", \".join(tags) + \"\\n\")\n",
    "    \n",
    "    elif opcion == 4:\n",
    "        bajada = generar_bajada(texto)\n",
    "        output_area.append_stdout(f\"\\nBajada (Resumen): {bajada}\\n\")\n",
    "    \n",
    "    elif opcion == 5:\n",
    "        traslate = Traducir_a_ingles(texto)\n",
    "        output_area.append_stdout(f\"\\nTraducir a Ingles: {traslate}\\n\")\n",
    "    \n",
    "\n",
    "# Función para manejar el evento de ingreso de API key\n",
    "def set_api_key(b):\n",
    "    global api_key\n",
    "    api_key = api_key_input.value.strip()  # Guardar la API key\n",
    "    output_area.append_stdout(\"API key establecida. Que comience la magia!.\\n\")\n",
    "\n",
    "# Widgets para la interfaz gráfica\n",
    "api_key_input = widgets.Password(  # Cambiado a Password\n",
    "    placeholder='Ingresa tu API key aquí...',\n",
    "    description='API Key:',\n",
    "    layout=widgets.Layout(width='90%')\n",
    ")\n",
    "\n",
    "texto_input = widgets.Textarea(\n",
    "    placeholder='Ingresa tu texto aquí...',\n",
    "    description='Texto:',\n",
    "    layout=widgets.Layout(width='90%', height='150px')\n",
    ")\n",
    "\n",
    "opcion_selector = widgets.Dropdown(\n",
    "    options=[\n",
    "        ('Reescritura de nota', 1),\n",
    "        ('Generar Imagen', 2),\n",
    "        ('Sugerir Tags', 3),\n",
    "        ('Generar Resumen', 4),\n",
    "        ('Traducir a Ingles ', 5),\n",
    "    ],\n",
    "    description='Selectores:',\n",
    ")\n",
    "\n",
    "\n",
    "# Botón con estilo\n",
    "\n",
    "boton_set_api_key = widgets.Button(\n",
    "    description=\"Registrar API Key\",\n",
    "    button_style=\"success\", \n",
    "    style={'button_color': 'green'} \n",
    ")\n",
    "\n",
    "\n",
    "\n",
    "boton_procesar = widgets.Button(\n",
    "    description=\"Enviar\",\n",
    "    button_style=\"success\",\n",
    "    style={'button_color': 'blue'}\n",
    ")\n",
    "output_area = widgets.Output()\n",
    "\n",
    "# Conectar los botones a las funciones\n",
    "boton_set_api_key.on_click(set_api_key)\n",
    "boton_procesar.on_click(procesar_texto)\n",
    "\n",
    "# Mostrar los widgets\n",
    "display(api_key_input, boton_set_api_key, texto_input, opcion_selector, boton_procesar, output_area)\n"
   ]
  }
 ],
 "metadata": {
  "kernelspec": {
   "display_name": "Python 3",
   "language": "python",
   "name": "python3"
  },
  "language_info": {
   "codemirror_mode": {
    "name": "ipython",
    "version": 3
   },
   "file_extension": ".py",
   "mimetype": "text/x-python",
   "name": "python",
   "nbconvert_exporter": "python",
   "pygments_lexer": "ipython3",
   "version": "3.13.1"
  }
 },
 "nbformat": 4,
 "nbformat_minor": 5
}
